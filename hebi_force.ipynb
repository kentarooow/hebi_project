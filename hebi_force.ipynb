{
 "cells": [
  {
   "cell_type": "code",
   "execution_count": null,
   "metadata": {},
   "outputs": [
    {
     "name": "stdout",
     "output_type": "stream",
     "text": [
      "Modules found on network:\n",
      "S5-3 | S-0038\n",
      "S5-3 | S-0009\n",
      "S5-3 | S-0033\n",
      "S5-3 | S-0036\n",
      "S5-3 | S-0025\n",
      "S5-3 | S-0016\n"
     ]
    }
   ],
   "source": [
    "import hebi\n",
    "from time import time, sleep\n",
    "import numpy as np\n",
    "import matplotlib.pyplot as plt\n",
    "\n",
    "# Initialize HEBI Lookup\n",
    "lookup = hebi.Lookup()\n",
    "sleep(5)  # Allow time to discover modules\n",
    "\n",
    "print('Modules found on network:')\n",
    "for entry in lookup.entrylist:\n",
    "    print(f'{entry.family} | {entry.name}')\n",
    "    \n",
    "# Initialize group\n",
    "group = lookup.get_group_from_names(['S5-3'], ['S-0038', 'S-0009', 'S-0033', 'S-0025', 'S-0036', 'S-0016'])\n",
    "if group is None:\n",
    "    raise RuntimeError(\"Group could not be found!\")\n",
    "\n",
    "\n",
    "# Command settings\n",
    "group_command = hebi.GroupCommand(group.size)\n",
    "group_feedback = hebi.GroupFeedback(group.size)\n",
    "\n",
    "# Define parameters\n",
    "frequency = 100  # Hz\n",
    "recording_time = 10  # seconds\n",
    "time_step = 1 / frequency  # time step based on frequency\n",
    "\n",
    "# Preallocate Q for position data\n",
    "Q = np.zeros((int(recording_time * frequency), group.size))\n",
    "row = 0\n",
    "\n",
    "while True:\n",
    "    # Send zero effort command\n",
    "    group_command.effort = np.zeros(group.size)\n",
    "    group.send_command(group_command)\n",
    "    \n",
    "    # Sleep for the rest of the time step\n",
    "    sleep(time_step)\n",
    "\n"
   ]
  },
  {
   "cell_type": "code",
   "execution_count": null,
   "metadata": {},
   "outputs": [],
   "source": []
  }
 ],
 "metadata": {
  "kernelspec": {
   "display_name": "jupyter-venv",
   "language": "python",
   "name": "jupyter-venv"
  },
  "language_info": {
   "codemirror_mode": {
    "name": "ipython",
    "version": 3
   },
   "file_extension": ".py",
   "mimetype": "text/x-python",
   "name": "python",
   "nbconvert_exporter": "python",
   "pygments_lexer": "ipython3",
   "version": "3.11.3"
  }
 },
 "nbformat": 4,
 "nbformat_minor": 2
}
